{
 "cells": [
  {
   "cell_type": "markdown",
   "id": "fefa3f8a-8f56-475b-828c-5ee107ebf456",
   "metadata": {},
   "source": [
    "### Função Afim - Função do 1º Grau "
   ]
  },
  {
   "cell_type": "markdown",
   "id": "a5272228-43fc-4a79-bb7e-af676e04ed4e",
   "metadata": {},
   "source": [
    "#### <b style=\"color: #00008b\">O que é?</b> "
   ]
  },
  {
   "cell_type": "markdown",
   "id": "85b6d15b-b351-4397-955c-9678899c564c",
   "metadata": {},
   "source": [
    "A função afim (chamada também de função do primeiro grau) é uma [função](https://github.com/octavioduarte/Matematica-Para-IA/blob/main/lab02/introduction-concepts.ipynb) que tem a seguinte lei de formação:\n",
    "\n",
    "<p>\\( f(x) = ax + b\\)</p> \n",
    "\n",
    "<br/>\n",
    "\n",
    "<b style=\"color: #00008b\">Onde</b>: \n",
    "\n",
    "<b>a</b>: é qualquer número real diferente de 0, também conhecido como coeficiente angular, isso porque o a determina a inclinação da reta, ou seja, se o a > 0 a reta será inclinada para cima cason contrário será inclinado para baixo.\n",
    "\n",
    "<b>b</b>: é também chamado de coeficiente linear - O b determina até onde irá a reta no eixo y do plano cartesiano."
   ]
  },
  {
   "cell_type": "markdown",
   "id": "012df457-a366-4449-9a93-a109a6113ae2",
   "metadata": {},
   "source": [
    "#### <b style=\"color: #00008b\">Como determinar quem é a e quem é b?</b> "
   ]
  },
  {
   "cell_type": "markdown",
   "id": "7d6b1d83-6cfe-4fa0-a8e3-d6aa966ee900",
   "metadata": {},
   "source": [
    "\n",
    "<b>a</b>: O a sempre será o valor que acompanha o x - Coeficiente Angular\n",
    "\n",
    "<b>b</b>: É o termo independente da função - Coeficiente Linear\n",
    "\n",
    "\n",
    "<b style=\"color: #00008b\">Alguns exemplos:</b> \n",
    "\n",
    "<div style=\"display: flex\">\n",
    "    <p style=\"margin-right: 10px\">\\( f(x) = 3x + 5\\)</p>  --->\n",
    "    <p style=\"margin-left: 10px\"> <b style=\"color: #00008b\">a</b> = 3 <b style=\"color: #00008b; margin-left: 10px\">b</b> = 5</p>\n",
    "</div>\n",
    "\n",
    "\n",
    "<div style=\"display: flex\">\n",
    "    <p style=\"margin-right: 10px\">\\( f(x) = -x + 7\\)</p>  --->\n",
    "    <p style=\"margin-left: 10px\"> <b style=\"color: #00008b\">a</b> = -1  <b style=\"color: #00008b; margin-left: 10px\">b</b> = 7</p>\n",
    "</div>\n",
    "\n",
    "\n",
    "<div style=\"display: flex\">\n",
    "    <p style=\"margin-right: 10px\">\\( f(x) = 3/2x\\)</p>  --->\n",
    "    <p style=\"margin-left: 10px\"> <b style=\"color: #00008b\">a</b> = 3/2  <b style=\"color: #00008b; margin-left: 10px\">b</b> = 0</p>\n",
    "</div>\n",
    "\n",
    "\n",
    "</br>\n",
    "\n",
    "<i>Para valores não declarados de a assumiremos o 1 como foi no segundo exemplo. E para valores não declarados de b assumiremos 0.</i>"
   ]
  },
  {
   "cell_type": "markdown",
   "id": "a854bf06-66ac-449f-b367-5524c8a621af",
   "metadata": {},
   "source": [
    "#### <b style=\"color: #00008b\">Para que serve a função afim?</b> "
   ]
  },
  {
   "cell_type": "markdown",
   "id": "905da108-f481-4d3f-8a5f-e586c292bd78",
   "metadata": {},
   "source": [
    "A função afim serve para determinar que a relação entre duas variáveis é ou não linear, ou seja, para cada x do meu conjunto de dados devo ter um y que irá variar de forma proporcional. Façamos uma analogia, posso afirmar que para cada litro de gasolina abastecido maior será o valor a ser pago, ou que para cada hora estudada por um aluno maior será sua nota, quanto menor for minha pontuação no serasa menor será minha concessão de crédito e por ai vai - Com a função afim conseguimos afirmar matematicamente que existe uma relação linear entre duas variáveis."
   ]
  },
  {
   "cell_type": "markdown",
   "id": "1e9be3e8-ceb5-4125-a9b4-aa6798b891a4",
   "metadata": {},
   "source": [
    "#### <b style=\"color: #00008b\">Função afim com o plano cartesiano</b> "
   ]
  },
  {
   "cell_type": "markdown",
   "id": "ed11ebe2-4c3f-45f3-90e4-c2bf01c8dc04",
   "metadata": {},
   "source": [
    "Como vimos acima a função afim serve para determinar se a relação entre duas variáveis é ou não linear - E para ajudar neste processo podemos usar o plano cartesiano. Pegaremos um exemplo e iremos resolver aplicando a lei de formação da função afim - O resultado será um conjunto de pares ordenados que iremos aplicar em um plano cartesiano e determinar a partir disso se a relação é ou não linear de forma visual e matemática.\n",
    "\n",
    "\n",
    "Contexto: <i>Em uma pequena fábrica de camisetas, o custo total de produção depende do número de camisetas produzidas. O custo fixo da fábrica (independente de quantas camisetas sejam feitas) é de 200,00. Além disso, cada camiseta produzida custa R$ 10,00 em material e mão de obra.</i>\n",
    "\n",
    "\n",
    "Podemos determinar a seguinte função para o problema acima: \n",
    "\n",
    "<p>\\( c(x) = 10x + 200\\)</p> \n",
    "\n",
    "<b style=\"color: #00008b\">Por que <i>'a'</i> é igual a 10?</b> Porque ele é coeficiente do meu x, ou seja, sempre devo considera-lo a como a variável que \"potencializa\" meu x, se for em um contexto de:\n",
    "\n",
    "</br>\n",
    "\n",
    "\n",
    "<i style=\"color: blue\">litros de gasolina vs valor a ser pago</i> --> a = o valor do litro da gasolina \n",
    "\n",
    "<i style=\"color: blue\">horas de estudo vs nota tirada</i> --> a = quantidade de horas estudadas\n",
    "\n",
    "\n",
    "Retomando nosso exmplos das camisas, vamos resolver o problema para determinados números de camisas e visualizar o resultado no plano cartersiano. Vamos verificar qual o preço da produção para 25, 50 e 100 camisas.\n",
    "\n",
    "</br>\n",
    "\n",
    "<b>Para 25 camisetas:</b>\n",
    "\n",
    "c(25) = 10*25 + 200 = 450 --> Nosso par ordenado é (25, 450) pois para 25 camisetas o custo será de 450 reais.\n",
    "\n",
    "</br>\n",
    "\n",
    "<b>Para 50 camisetas:</b>\n",
    "\n",
    "c(50) = 10*50 + 200 = 700 --> Nosso par ordenado é (50, 700) pois para 50 camisetas o custo será de 700 reais.\n",
    "\n",
    "</br>\n",
    "\n",
    "<b>Para 100 camisetas:</b>\n",
    "\n",
    "c(100) = 10*100 + 200 = 1200 --> Nosso par ordenado é (100, 1200) pois para 100 camisetas o custo será de 1200 reais.\n",
    "\n",
    "</br>\n",
    "\n",
    "\n",
    "<h4>Aplicando em um plano cartesiano teremos:</h4>\n",
    "\n",
    "<img src=\"./images/linear-funcion-example01.png\" alt=\"exemplo plano cartesiano função afim\"/>\n",
    "\n",
    "Repare que ao marcarmos no plano cartesiano os dados providos pelos pares ordenados, temos uma reta que passa por todos eles - Quando você consegue aplicar uma reta em todos os dados do seu conjunto, você pode afirmar que a relação entre ambos os conjuntos é linear, ou seja, para cada valor do domínio existe um valor proporcionalmente crescente ou decrescente no contradomínio."
   ]
  },
  {
   "cell_type": "markdown",
   "id": "42b891fa-0ae7-4877-a2db-7760a9be6fce",
   "metadata": {},
   "source": [
    "#### <b style=\"color: #00008b\">Raiz da função e estudo do sinal</b> "
   ]
  },
  {
   "cell_type": "markdown",
   "id": "44caa102-ae12-40fa-8528-dbc02ea06835",
   "metadata": {},
   "source": [
    "É possível determinarmos se o valor de y será ou não positivo depois de determinarmos a *raiz da função* - Em resumo a raiz da função pode ser respondida com a seguinte pergunta <i>\"Qual o valor de x que fará com que minha função resulte em 0?\"</i>. É possível obter este valor com uma equação do 1º grau, mas qual o propósito de encontrar este valor? A resposta é, todos os valores de x maiores que a raiz da função vão resultar em valores positivos, valores de x menores que a raiz da funçao vão resultar em valores negativos e valores de x iguais a raiz da função vão resultar em 0."
   ]
  },
  {
   "cell_type": "markdown",
   "id": "85e07adb-2394-4f41-bde4-42dbed7c7784",
   "metadata": {},
   "source": [
    "A raiz da função para: \n",
    "\n",
    "<p>\\( f(x) = 2x - 6\\)</p> \n",
    "\n",
    "\n",
    "Para resolvermos devemos assumir o valor f(x) como 0 e teremos uma equação do primeiro grau - Separamos os termos e no final teremos nossa raiz da função:\n",
    "\n",
    "\n",
    "<p>\\( 0 = 2x - 6\\)</p> \n",
    "\n",
    "\n",
    "<p>\\( -2x = -6 \\)</p> \n",
    "\n",
    "\n",
    "<p>\\( x = -6/-2 \\)</p> \n",
    "\n",
    "\n",
    "<p>\\( x = 3 \\)</p> \n",
    "\n",
    "\n",
    "Com isso podemos concluir que para: \n",
    "\n",
    "<p>\\( f(x) = 2x - 6\\)</p> \n",
    "\n",
    "A raiz da função será quando x for igual a 3, ou seja, teremos 0 como resultado - Importante ressaltar mais 2 pontos: \n",
    "\n",
    " - Uma vez que identificamos a raiz da função quaisquer valores maiores do que estes serão positivos e quaisquer valores menores serão negativos.\n",
    "\n",
    " - f(x) é igual ao y - Ou seja, sempre que encontrarmos o valor da raiz da função podemos assumir que o nosso y será igual a 0.\n"
   ]
  },
  {
   "cell_type": "code",
   "execution_count": null,
   "id": "f3360b7f-b819-4da0-85f2-90f92728079f",
   "metadata": {},
   "outputs": [],
   "source": []
  }
 ],
 "metadata": {
  "kernelspec": {
   "display_name": "Python 3 (ipykernel)",
   "language": "python",
   "name": "python3"
  },
  "language_info": {
   "codemirror_mode": {
    "name": "ipython",
    "version": 3
   },
   "file_extension": ".py",
   "mimetype": "text/x-python",
   "name": "python",
   "nbconvert_exporter": "python",
   "pygments_lexer": "ipython3",
   "version": "3.11.7"
  }
 },
 "nbformat": 4,
 "nbformat_minor": 5
}
