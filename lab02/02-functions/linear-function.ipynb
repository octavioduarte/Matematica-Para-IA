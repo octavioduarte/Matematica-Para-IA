{
 "cells": [
  {
   "cell_type": "markdown",
   "id": "fefa3f8a-8f56-475b-828c-5ee107ebf456",
   "metadata": {},
   "source": [
    "### Função Afim - Função do 1º Grau "
   ]
  },
  {
   "cell_type": "markdown",
   "id": "a5272228-43fc-4a79-bb7e-af676e04ed4e",
   "metadata": {
    "jp-MarkdownHeadingCollapsed": true
   },
   "source": [
    "#### <b style=\"color: #00008b\">O que é?</b> "
   ]
  },
  {
   "cell_type": "markdown",
   "id": "85b6d15b-b351-4397-955c-9678899c564c",
   "metadata": {},
   "source": [
    "A função afim (chamada também de função do primeiro grau) é uma [função](https://github.com/octavioduarte/Matematica-Para-IA/blob/main/lab02/introduction-concepts.ipynb) que tem a seguinte lei de formação:\n",
    "\n",
    "<p>\\( f(x) = ax + b\\)</p> \n",
    "\n",
    "<br/>\n",
    "\n",
    "<b style=\"color: #00008b\">Onde</b>: \n",
    "\n",
    "<b>a</b>: é qualquer número real diferente de 0, também conhecido como coeficiente angular, isso porque o a determina a inclinação da reta, ou seja, se o a > 0 a reta será inclinada para cima cason contrário será inclinado para baixo.\n",
    "\n",
    "<b>b</b>: é também chamado de coeficiente linear - O b determina até onde irá a reta no eixo y do plano cartesiano."
   ]
  },
  {
   "cell_type": "markdown",
   "id": "012df457-a366-4449-9a93-a109a6113ae2",
   "metadata": {
    "jp-MarkdownHeadingCollapsed": true
   },
   "source": [
    "#### <b style=\"color: #00008b\">Como determinar quem é a e quem é b?</b> "
   ]
  },
  {
   "cell_type": "markdown",
   "id": "7d6b1d83-6cfe-4fa0-a8e3-d6aa966ee900",
   "metadata": {},
   "source": [
    "\n",
    "<b>a</b>: O a sempre será o valor que acompanha o x.\n",
    "\n",
    "<b>b</b>: É o termo independente da função.\n",
    "\n",
    "\n",
    "<b style=\"color: #00008b\">Alguns exemplos:</b> \n",
    "\n",
    "<div style=\"display: flex\">\n",
    "    <p style=\"margin-right: 10px\">\\( f(x) = 3x + 5\\)</p>  --->\n",
    "    <p style=\"margin-left: 10px\"> <b style=\"color: #00008b\">a</b> = 3 <b style=\"color: #00008b; margin-left: 10px\">b</b> = 5</p>\n",
    "</div>\n",
    "\n",
    "\n",
    "<div style=\"display: flex\">\n",
    "    <p style=\"margin-right: 10px\">\\( f(x) = -x + 7\\)</p>  --->\n",
    "    <p style=\"margin-left: 10px\"> <b style=\"color: #00008b\">a</b> = -1  <b style=\"color: #00008b; margin-left: 10px\">b</b> = 7</p>\n",
    "</div>\n",
    "\n",
    "\n",
    "<div style=\"display: flex\">\n",
    "    <p style=\"margin-right: 10px\">\\( f(x) = 3/2x\\)</p>  --->\n",
    "    <p style=\"margin-left: 10px\"> <b style=\"color: #00008b\">a</b> = 3/2  <b style=\"color: #00008b; margin-left: 10px\">b</b> = 0</p>\n",
    "</div>\n",
    "\n",
    "\n",
    "</br>\n",
    "\n",
    "<i>Para valores não declarados de a assumiremos o 1 como foi no segundo exemplo. E para valores não declarados de b assumiremos 0.</i>"
   ]
  },
  {
   "cell_type": "markdown",
   "id": "a854bf06-66ac-449f-b367-5524c8a621af",
   "metadata": {
    "jp-MarkdownHeadingCollapsed": true
   },
   "source": [
    "#### <b style=\"color: #00008b\">Para que serve a função afim?</b> "
   ]
  },
  {
   "cell_type": "markdown",
   "id": "905da108-f481-4d3f-8a5f-e586c292bd78",
   "metadata": {},
   "source": [
    "A função afim serve para determinar que a relação entre duas variáveis é ou não linear, ou seja, para cada x do meu conjunto de dados devo ter um y que irá variar de forma proporcional. Façamos uma analogia, posso afirmar que para cada litro de gasolina abastecido maior será o valor a ser pago, ou que para cada hora estudada por um aluno maior será sua nota, quanto menor for minha pontuação no serasa menor será minha concessão de crédito e por ai vai - Com a função afim conseguimos afirmar matematicamente que existe uma relação linear entre duas variáveis."
   ]
  }
 ],
 "metadata": {
  "kernelspec": {
   "display_name": "Python 3 (ipykernel)",
   "language": "python",
   "name": "python3"
  },
  "language_info": {
   "codemirror_mode": {
    "name": "ipython",
    "version": 3
   },
   "file_extension": ".py",
   "mimetype": "text/x-python",
   "name": "python",
   "nbconvert_exporter": "python",
   "pygments_lexer": "ipython3",
   "version": "3.11.7"
  }
 },
 "nbformat": 4,
 "nbformat_minor": 5
}
