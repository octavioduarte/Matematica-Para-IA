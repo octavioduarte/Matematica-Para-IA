{
 "cells": [
  {
   "cell_type": "markdown",
   "id": "6dbe135a-2322-4fe6-98b3-b7e8e2037244",
   "metadata": {},
   "source": [
    "### Função Quadrática - Função do 2º Grau "
   ]
  },
  {
   "cell_type": "markdown",
   "id": "3bb43377-5328-4af7-aeea-518eb6d33d8d",
   "metadata": {
    "jp-MarkdownHeadingCollapsed": true
   },
   "source": [
    "#### <b style=\"color: #00008b\">O que é?</b> "
   ]
  },
  {
   "cell_type": "markdown",
   "id": "669bf771-2ee8-4013-b1d2-d82af1063bba",
   "metadata": {},
   "source": [
    "A função afim (chamada também de função do primeiro grau) é uma [função](https://github.com/octavioduarte/Matematica-Para-IA/blob/main/lab02/introduction-concepts.ipynb) que tem a seguinte lei de formação:\n",
    "\n",
    "<p>\\( f(x) = ax² + bx + c\\)</p> \n",
    "\n",
    "<br/>\n",
    "\n",
    "<b style=\"color: #00008b\">Onde</b>: \n",
    "\n",
    "a, b e c são números reais e a ≠ 0."
   ]
  },
  {
   "cell_type": "markdown",
   "id": "61f3f87a-6a86-44f1-a14c-4066682c16aa",
   "metadata": {
    "jp-MarkdownHeadingCollapsed": true
   },
   "source": [
    "#### <b style=\"color: #00008b\">Determinando quem é <i>'a'</i> quem é <i>'b'</i> e quem é <i>'c' </i></b> "
   ]
  },
  {
   "cell_type": "markdown",
   "id": "4558ee92-f7c4-44c5-8b76-8b91c213a090",
   "metadata": {},
   "source": [
    "<p>\\( f(x) = 3x² - 4x + 2\\)</p> \n",
    "\n",
    "<b style=\"color:  #FF0000\">a</b> = 3   <b style=\"color: #FF0000\">b</b> = -4  <b style=\"color:  #FF0000\">c</b> = 2\n",
    "\n",
    "<hr/>\n",
    "\n",
    "<p>\\( f(x) = x² + 3x\\)</p> \n",
    "\n",
    "<b style=\"color: #FF0000\">a</b> = 1   <b style=\"color:  #FF0000\">b</b> = -3  <b style=\"color:  #FF0000\">c</b> = 0\n",
    "\n",
    "<hr/>\n",
    "\n",
    "<p>\\( f(x) = -x² -5\\)</p> \n",
    "\n",
    "<b style=\"color:  #FF0000\">a</b> = -1  <b style=\"color:  #FF0000\">b</b> = 0 <b style=\"color:  #FF0000\">c</b> = -5\n",
    "\n",
    "<hr/>\n",
    "\n",
    "<p>\\( f(x) = -2x²\\)</p> \n",
    "\n",
    "<b style=\"color:  #FF0000\">a</b> = -2   <b style=\"color:  #FF0000\">b</b> = 0 <b style=\"color:  #FF0000\">c</b> = 0\n",
    "\n",
    "<hr/>\n",
    "\n",
    "##### Podemos assumir que a sempre terá seu valor padrão definido como 1 caso não seja estabelecido na fórmula, enquanto b e c terão o valor 0.\n",
    "\n",
    "\n"
   ]
  },
  {
   "cell_type": "markdown",
   "id": "6d5d6c5e-dd94-4d92-909e-67f2db2c5868",
   "metadata": {},
   "source": [
    "#### <b style=\"color: #00008b\">O gráfico de uma função do 2º grau</b> "
   ]
  },
  {
   "cell_type": "markdown",
   "id": "a7881d27-4663-4058-97d4-f8c6977f73f7",
   "metadata": {},
   "source": [
    "Uma rápida revisão sobre funções:\n",
    "\n",
    "Uma função tem o papel de estabelecer qual a lei de formação entre os elementos de um domínio e de um contradomínio - No texto anterior sobre função do 1º grau verificamos que esta tem o propósito de evidenciar/determinar que a relação entre dois conjuntos é linear, ou seja, para cada elemento do domínio tenho um elemento que aumenta ou dininui proporcionalmente no contradomínio.\n",
    "\n",
    "Em função do 2º grau esta relação não é linear, ou seja, não tenho necessariamente elementos que variam de forma positiva ou negativa no contradomínio, logo não se trata de uma relação linear.\n",
    "\n",
    "Isso pode ser visível quando colocamos os pares ordenados x e y no plano cartesiano:\n",
    "\n",
    "\n",
    "Para a lei de formação:\n",
    "\n",
    "<p>\\( f(x) = x² - 1\\)</p> \n",
    "\n",
    "Onde:\n",
    "\n",
    "a = 1\n",
    "\n",
    "b = 0\n",
    "\n",
    "c = -1\n",
    "\n",
    "\n",
    "\n",
    "<table border=\"1\">\n",
    "  <tr>\n",
    "    <th>x</th>\n",
    "    <th>f(x) = y</th>\n",
    "  </tr>\n",
    "  <tr>\n",
    "    <td style=\"text-align: center; width: 30px\"><p>-2</p></td>\n",
    "    <td style=\"text-align: center; width: 100px\"><p>\\( f(-2) = -2² - 1 =  3\\)</p></td>\n",
    "  </tr>\n",
    "  <tr>\n",
    "    <td style=\"text-align: center; width: 30px\"><p>-1</p></td>\n",
    "    <td style=\"text-align: center; width: 100px\"><p>\\( f(-1) = -1² - 1 =  0\\)</p></td>\n",
    "  </tr>\n",
    "  <tr>\n",
    "    <td style=\"text-align: center\">0</td>\n",
    "    <td style=\"text-align: center; width: 100px\"><p>\\( f(0) = 0² - 1 =  -1\\)</p></td>\n",
    "  </tr>\n",
    "  <tr>\n",
    "    <td style=\"text-align: center\">1</td>\n",
    "    <td style=\"text-align: center; width: 100px\"><p>\\( f(1) = 1² - 1 =  0\\)</p></td>\n",
    "  </tr>\n",
    "  <tr>\n",
    "    <td style=\"text-align: center\">2</td>\n",
    "    <td style=\"text-align: center; width: 100px\"><p>\\( f(2) = 2² - 1 =  3\\)</p></td>\n",
    "  </tr>\n",
    "</table>\n",
    "\n",
    "</br>\n",
    "\n",
    "#### > Incluindo os pontos no plano cartesiano: \n",
    "\n",
    "</br>\n",
    "\n",
    "<img src=\"./imagens/exemplo-pares-ordenados-funcao-segundo-grau-no-plano-cartesiano.png\" alt=\"exemplo função quadrática\" height= 500 width=500/>\n",
    "\n",
    "\n",
    "</br>\n",
    "\n",
    "#### > É possível traçarmos uma parábola entre estes pontos: \n",
    "\n",
    "</br>\n",
    "\n",
    "<img src=\"./imagens/exemplo-funcao-quadratica.png\" alt=\"exemplo função quadrática com parábola\" height= 500 width=500/>\n",
    "\n",
    "\n",
    "\n"
   ]
  }
 ],
 "metadata": {
  "kernelspec": {
   "display_name": "Python 3 (ipykernel)",
   "language": "python",
   "name": "python3"
  },
  "language_info": {
   "codemirror_mode": {
    "name": "ipython",
    "version": 3
   },
   "file_extension": ".py",
   "mimetype": "text/x-python",
   "name": "python",
   "nbconvert_exporter": "python",
   "pygments_lexer": "ipython3",
   "version": "3.11.7"
  }
 },
 "nbformat": 4,
 "nbformat_minor": 5
}
