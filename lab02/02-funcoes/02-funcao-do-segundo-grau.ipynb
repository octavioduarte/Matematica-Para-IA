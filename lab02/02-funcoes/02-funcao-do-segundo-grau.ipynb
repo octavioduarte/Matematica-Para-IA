{
 "cells": [
  {
   "cell_type": "markdown",
   "id": "6dbe135a-2322-4fe6-98b3-b7e8e2037244",
   "metadata": {},
   "source": [
    "### Função Quadrática - Função do 2º Grau "
   ]
  },
  {
   "cell_type": "markdown",
   "id": "3bb43377-5328-4af7-aeea-518eb6d33d8d",
   "metadata": {},
   "source": [
    "#### <b style=\"color: #00008b\">O que é?</b> "
   ]
  },
  {
   "cell_type": "markdown",
   "id": "669bf771-2ee8-4013-b1d2-d82af1063bba",
   "metadata": {},
   "source": [
    "A função afim (chamada também de função do primeiro grau) é uma [função](https://github.com/octavioduarte/Matematica-Para-IA/blob/main/lab02/introduction-concepts.ipynb) que tem a seguinte lei de formação:\n",
    "\n",
    "<p>\\( f(x) = ax² + bx + c\\)</p> \n",
    "\n",
    "<br/>\n",
    "\n",
    "<b style=\"color: #00008b\">Onde</b>: \n",
    "\n",
    "a, b e c são números reais e a ≠ 0."
   ]
  },
  {
   "cell_type": "markdown",
   "id": "61f3f87a-6a86-44f1-a14c-4066682c16aa",
   "metadata": {},
   "source": [
    "#### <b style=\"color: #00008b\">Determinando quem é <i>'a'</i> quem é <i>'b'</i> e quem é <i>'c' </i></b> "
   ]
  },
  {
   "cell_type": "markdown",
   "id": "4558ee92-f7c4-44c5-8b76-8b91c213a090",
   "metadata": {},
   "source": [
    "<p>\\( f(x) = 3x² - 4x + 2\\)</p> \n",
    "\n",
    "<b style=\"color:  #FF0000\">a</b> = 3   <b style=\"color: #FF0000\">b</b> = -4  <b style=\"color:  #FF0000\">c</b> = 2\n",
    "\n",
    "<hr/>\n",
    "\n",
    "<p>\\( f(x) = x² + 3x\\)</p> \n",
    "\n",
    "<b style=\"color: #FF0000\">a</b> = 1   <b style=\"color:  #FF0000\">b</b> = -3  <b style=\"color:  #FF0000\">c</b> = 0\n",
    "\n",
    "<hr/>\n",
    "\n",
    "<p>\\( f(x) = -x² -5\\)</p> \n",
    "\n",
    "<b style=\"color:  #FF0000\">a</b> = -1  <b style=\"color:  #FF0000\">b</b> = 0 <b style=\"color:  #FF0000\">c</b> = -5\n",
    "\n",
    "<hr/>\n",
    "\n",
    "<p>\\( f(x) = -2x²\\)</p> \n",
    "\n",
    "<b style=\"color:  #FF0000\">a</b> = -2   <b style=\"color:  #FF0000\">b</b> = 0 <b style=\"color:  #FF0000\">c</b> = 0\n",
    "\n",
    "<hr/>\n",
    "\n",
    "##### Podemos assumir que a sempre terá seu valor padrão definido como 1 caso não seja estabelecido na fórmula, enquanto b e c terão o valor 0.\n",
    "\n",
    "\n"
   ]
  }
 ],
 "metadata": {
  "kernelspec": {
   "display_name": "Python 3 (ipykernel)",
   "language": "python",
   "name": "python3"
  },
  "language_info": {
   "codemirror_mode": {
    "name": "ipython",
    "version": 3
   },
   "file_extension": ".py",
   "mimetype": "text/x-python",
   "name": "python",
   "nbconvert_exporter": "python",
   "pygments_lexer": "ipython3",
   "version": "3.11.7"
  }
 },
 "nbformat": 4,
 "nbformat_minor": 5
}
