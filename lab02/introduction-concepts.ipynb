{
 "cells": [
  {
   "cell_type": "markdown",
   "id": "8447c36e-fc2c-47f4-88df-901db3ab149c",
   "metadata": {},
   "source": [
    "### Funções Matemáticas\n",
    "\n",
    " Uma função matemática é a representação da relação entre dois conjuntos. Imagine dois diferentes conjuntos de dados - A função determina através da **lei de formação** qual a relação entre o número do primeiro conjunto com o segundo e assim por diante."
   ]
  },
  {
   "cell_type": "markdown",
   "id": "62b23f8f-e269-4389-b7ad-5ccd82bf6840",
   "metadata": {},
   "source": [
    "### Domínio e Contradomínio\n",
    "\n",
    "Os conjuntos que comentamos acima são chamados de domínio e contradomínio - Na prática os valores do domínio através do processo da lei de formação referenciam um valor no contradomínio.\n",
    "\n",
    "Vamos ver um exemplo ilustrativo, onde vamos ter o conjunto do domínio que por convenção é representado pela letra A e o conjunto do contradomínio que por convenção é representado pela letra B - Ambos vão estar **relacionados** por uma função que aplica uma lei de formação que irá converter um valor do conjunto A (o domínio) para um valor do conjunto B (o contradomínio), para o exemplo abaixo a nossa lei de formação será:\n",
    "\n",
    "\n",
    "<p>\\( f(x) = 5x + 2 \\)</p>\n",
    "\n",
    "\n",
    "\n",
    "\n",
    "<img src=\"./images/example_of_sets.png\" alt=\"Exemplo de domínio e contradomínio\" height=\"500\" width=\"500\"/>\n",
    "\n",
    "### Recapitulando...\n",
    "\n",
    "O que temos na imagem acima é:\n",
    "\n",
    "O domínio com os números: 1, 3 e -2 <br/>\n",
    "O contradomínio com os números: -8 7 4 e 17\n",
    "\n",
    "Ambos estão relacionados pois através de uma função que irá implementar uma lei de formação aos valores do domínio resultará em um valor correspondente ao conjunto do contradomínio."
   ]
  }
 ],
 "metadata": {
  "kernelspec": {
   "display_name": "Python 3 (ipykernel)",
   "language": "python",
   "name": "python3"
  },
  "language_info": {
   "codemirror_mode": {
    "name": "ipython",
    "version": 3
   },
   "file_extension": ".py",
   "mimetype": "text/x-python",
   "name": "python",
   "nbconvert_exporter": "python",
   "pygments_lexer": "ipython3",
   "version": "3.11.7"
  }
 },
 "nbformat": 4,
 "nbformat_minor": 5
}
