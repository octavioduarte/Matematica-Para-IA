{
 "cells": [
  {
   "cell_type": "markdown",
   "id": "8447c36e-fc2c-47f4-88df-901db3ab149c",
   "metadata": {},
   "source": [
    "### Funções Matemáticas\n",
    "\n",
    " Uma função matemática é a representação da relação entre dois conjuntos, ela determina através da **lei de formação** qual a relação entre cada valor de um conjunto com um segundo conjunto."
   ]
  },
  {
   "cell_type": "markdown",
   "id": "62b23f8f-e269-4389-b7ad-5ccd82bf6840",
   "metadata": {},
   "source": [
    "### Domínio e Contradomínio\n",
    "\n",
    "Os conjuntos que comentamos acima são chamados de domínio e contradomínio - Na prática os valores do domínio através do processo da lei de formação referenciam um valor no contradomínio.\n",
    "\n",
    "Vamos ver um exemplo ilustrativo, onde vamos ter o conjunto do domínio que por convenção é representado pela letra A e o conjunto do contradomínio que por convenção é representado pela letra B - Ambos vão estar **relacionados** por uma função que aplica uma lei de formação que irá converter um valor do conjunto A (o domínio) para um valor do conjunto B (o contradomínio), para o exemplo abaixo a nossa lei de formação será:\n",
    "\n",
    "\n",
    "<p>\\( f(x) = 5x + 2 \\)</p>\n",
    "\n",
    "\n",
    "\n",
    "\n",
    "<img src=\"./images/example_of_sets.png\" alt=\"Exemplo de domínio e contradomínio\" height=\"500\" width=\"500\"/>\n",
    "\n",
    "### Recapitulando...\n",
    "\n",
    "O que temos na imagem acima é:\n",
    "\n",
    "O domínio (por convenção representado pela letra A):\n",
    "\n",
    "<p>\\( A = \\{ 1, 3, -2 \\} \\)</p> \n",
    "\n",
    "O contradomínio com os números (por convenção representado pela letra B): \n",
    "\n",
    "<p>\\( B = \\{ -8, 7, 4, 17 \\} \\)</p> \n",
    "\n",
    "\n",
    "Ambos estão relacionados pois através de uma função que irá implementar uma lei de formação aos valores do domínio resultará em um valor correspondente ao conjunto do contradomínio."
   ]
  },
  {
   "cell_type": "markdown",
   "id": "28755a72-116f-47c9-b007-7a0173dcd864",
   "metadata": {},
   "source": [
    "### Imagem\n",
    "\n",
    "Ok, depois de entender o conceito de domínio e contradomínio fica mais simples entendermos o conceito de imagem - Imagem são os valores referenciados pelo domínio no contradomínio, ou seja, <b style=\"color: blue\">todos os valores do contradomínio que representam um (ou mais) valor(es) do domínio após aplicada a lei de formação fazem parte do conjunto da imagem.</b> Revisando a imagem do exemplo acima podemos dizer que o conjunto das imagens é:\n",
    "\n",
    "<p>\\( Im = \\{ -8, 7, 17 \\} \\)</p> \n",
    "\n",
    "<i>(Por convenção representamos o conjunto da imagem com Im)</i>\n",
    "\n",
    "\n",
    "Com isso podemos fazer algumas afirmações:\n",
    "\n",
    " - O conjunto da Imagem é um subconjunto do Contradomínio.\n",
    " -  7  é imagem de 1\n",
    " - -8  é imagem de -2\n",
    " -  17 é imagem de  3"
   ]
  },
  {
   "cell_type": "markdown",
   "id": "f14e6893-90aa-45c4-acaa-1619c1413417",
   "metadata": {},
   "source": [
    "### O que <b style=\"color: red\">não</b> é uma função?\n",
    "\n",
    "- Quando qualquer elemento do domínio referencia dois ou mais valores do contradomínio.\n",
    "- Quando um elemento do domínio não possui uma imagem no contradomínio."
   ]
  },
  {
   "cell_type": "markdown",
   "id": "5be8e34b-5ada-4694-a05d-c7d581283e51",
   "metadata": {},
   "source": [
    "### Referência\n",
    "\n",
    "https://www.youtube.com/watch?v=PjSiekaDvI4"
   ]
  }
 ],
 "metadata": {
  "kernelspec": {
   "display_name": "Python 3 (ipykernel)",
   "language": "python",
   "name": "python3"
  },
  "language_info": {
   "codemirror_mode": {
    "name": "ipython",
    "version": 3
   },
   "file_extension": ".py",
   "mimetype": "text/x-python",
   "name": "python",
   "nbconvert_exporter": "python",
   "pygments_lexer": "ipython3",
   "version": "3.11.7"
  }
 },
 "nbformat": 4,
 "nbformat_minor": 5
}
