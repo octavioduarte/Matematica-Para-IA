{
 "cells": [
  {
   "cell_type": "markdown",
   "id": "03990c2a-1206-4bb9-aa0b-a7144e8e00fb",
   "metadata": {},
   "source": [
    "#### Resolução dos exercicios"
   ]
  },
  {
   "cell_type": "markdown",
   "id": "a7d3ab53-75eb-4c80-9ef6-25649df94e1f",
   "metadata": {},
   "source": [
    "<h3 style=\"color: blue\">Exercício 1:</h3>\n",
    "\n",
    "\n",
    "<!DOCTYPE html>\n",
    "<html lang=\"pt-BR\">\n",
    "<head>\n",
    "    <meta charset=\"UTF-8\">\n",
    "    <meta name=\"viewport\" content=\"width=device-width, initial-scale=1.0\">\n",
    "    <title>Equação</title>\n",
    "    <style>\n",
    "        body {\n",
    "            font-family: Arial, sans-serif;\n",
    "            display: flex;\n",
    "            justify-content: center;\n",
    "            align-items: center;\n",
    "            height: 100vh;\n",
    "            background-color: #f4f4f4;\n",
    "        }\n",
    "        .equation {\n",
    "            font-size: 24px;\n",
    "            background-color: white;\n",
    "            padding: 20px;\n",
    "            border-radius: 8px;\n",
    "            box-shadow: 0 0 10px rgba(0, 0, 0, 0.1);\n",
    "        }\n",
    "    </style>\n",
    "</head>\n",
    "<body>\n",
    "    <div class=\"equation\">\n",
    "        \\( \\frac{2}{3} \\ x + 4 = 10 \\)\n",
    "    </div>\n",
    "</body>\n",
    "</html>\n",
    "\n",
    "\n",
    "<h3 style=\"color: blue\">Solução:</h3>\n",
    "\n",
    "<b>1º Anulando a constante +4 com -4:</b>\n",
    "\n",
    "2/3 * x + 4 - 4 = 10 - 4 \n",
    "\n",
    "2/3 * x = 6\n",
    "\n",
    "\n",
    "<b>2º Anulando a fração 2 sobre 3  com 3 sobre 2:</b>\n",
    "\n",
    "3/2 * 2/3   *  x  = 6/1  * 3/2    \n",
    "\n",
    "x = 18/2 \n",
    "\n",
    "\n",
    "x = 9"
   ]
  },
  {
   "cell_type": "code",
   "execution_count": 12,
   "id": "8ca76394-ea67-48e5-9f33-564ae959216f",
   "metadata": {},
   "outputs": [
    {
     "data": {
      "text/plain": [
       "True"
      ]
     },
     "execution_count": 12,
     "metadata": {},
     "output_type": "execute_result"
    }
   ],
   "source": [
    "# Prova real com Python:\n",
    "x = 9\n",
    "2/3 * x + 4 == 10"
   ]
  },
  {
   "cell_type": "markdown",
   "id": "43bf7d1e-18e5-4eb7-b260-f90f6d165379",
   "metadata": {},
   "source": [
    "<h3 style=\"color: blue\">Exercício 2:</h3>\n",
    "\n",
    "<!DOCTYPE html>\n",
    "<html lang=\"pt-BR\">\n",
    "<head>\n",
    "    <meta charset=\"UTF-8\">\n",
    "    <meta name=\"viewport\" content=\"width=device-width, initial-scale=1.0\">\n",
    "    <title>Equação</title>\n",
    "    <style>\n",
    "        body {\n",
    "            font-family: Arial, sans-serif;\n",
    "            display: flex;\n",
    "            justify-content: center;\n",
    "            align-items: center;\n",
    "            height: 100vh;\n",
    "            background-color: #f4f4f4;\n",
    "        }\n",
    "        .equation {\n",
    "            font-size: 24px;\n",
    "            background-color: white;\n",
    "            padding: 20px;\n",
    "            border-radius: 8px;\n",
    "            box-shadow: 0 0 10px rgba(0, 0, 0, 0.1);\n",
    "        }\n",
    "    </style>\n",
    "</head>\n",
    "<body>\n",
    "    <div class=\"equation\">\n",
    "        \\( 5x - 3 = 2x + 9 \\)\n",
    "    </div>\n",
    "</body>\n",
    "</html>\n",
    "\n",
    "\n",
    "<h3 style=\"color: blue\">Solução:</h3>\n"
   ]
  },
  {
   "cell_type": "markdown",
   "id": "a2a0174b-ea3d-4e99-aec0-da3a0143f8ef",
   "metadata": {},
   "source": [
    "<b>1º Anulando a constante  9  passando o -9 para o lado esquerdo da equação:</b>\n",
    "\n",
    "5x -3  -9 = 2x +9 -9\n",
    "\n",
    "5x -12 = 2x\n",
    "\n",
    "<b>2º Anulando o 5x com -5x em ambos os lados da equação:</b>\n",
    "\n",
    "\n",
    "5x -5x  -12 = 2x - 5x\n",
    "\n",
    "-12 = -3x\n",
    "\n",
    "<b>invertendo a ordem para facilitar a visualização</b>\n",
    "\n",
    "-12/-3 = x\n",
    "\n",
    "\n",
    "x = 4"
   ]
  },
  {
   "cell_type": "code",
   "execution_count": 13,
   "id": "b13298b8-4822-412e-8648-37e9b9825821",
   "metadata": {},
   "outputs": [
    {
     "data": {
      "text/plain": [
       "True"
      ]
     },
     "execution_count": 13,
     "metadata": {},
     "output_type": "execute_result"
    }
   ],
   "source": [
    "# Prova real com Python:\n",
    "x = 4\n",
    "5 * x - 3 == 2 * x + 9"
   ]
  }
 ],
 "metadata": {
  "kernelspec": {
   "display_name": "Python 3 (ipykernel)",
   "language": "python",
   "name": "python3"
  },
  "language_info": {
   "codemirror_mode": {
    "name": "ipython",
    "version": 3
   },
   "file_extension": ".py",
   "mimetype": "text/x-python",
   "name": "python",
   "nbconvert_exporter": "python",
   "pygments_lexer": "ipython3",
   "version": "3.11.7"
  }
 },
 "nbformat": 4,
 "nbformat_minor": 5
}
