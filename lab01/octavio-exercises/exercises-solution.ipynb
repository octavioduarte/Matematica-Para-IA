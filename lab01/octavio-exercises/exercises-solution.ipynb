{
 "cells": [
  {
   "cell_type": "markdown",
   "id": "03990c2a-1206-4bb9-aa0b-a7144e8e00fb",
   "metadata": {},
   "source": [
    "#### Resolução dos exercicios"
   ]
  },
  {
   "cell_type": "markdown",
   "id": "d5796d74-6580-4b18-9514-52e5dd661bc0",
   "metadata": {
    "jp-MarkdownHeadingCollapsed": true
   },
   "source": [
    "<h2 style=\"color: blue\">Exercício 1:</h2>"
   ]
  },
  {
   "cell_type": "markdown",
   "id": "a7d3ab53-75eb-4c80-9ef6-25649df94e1f",
   "metadata": {
    "jp-MarkdownHeadingCollapsed": true
   },
   "source": [
    "<!DOCTYPE html>\n",
    "<html lang=\"pt-BR\">\n",
    "<head>\n",
    "    <meta charset=\"UTF-8\">\n",
    "    <meta name=\"viewport\" content=\"width=device-width, initial-scale=1.0\">\n",
    "    <title>Equação</title>\n",
    "    <style>\n",
    "        body {\n",
    "            font-family: Arial, sans-serif;\n",
    "            display: flex;\n",
    "            justify-content: center;\n",
    "            align-items: center;\n",
    "            height: 100vh;\n",
    "            background-color: #f4f4f4;\n",
    "        }\n",
    "        .equation {\n",
    "            font-size: 24px;\n",
    "            background-color: white;\n",
    "            padding: 20px;\n",
    "            border-radius: 8px;\n",
    "            box-shadow: 0 0 10px rgba(0, 0, 0, 0.1);\n",
    "        }\n",
    "    </style>\n",
    "</head>\n",
    "<body>\n",
    "    <div class=\"equation\">\n",
    "        \\( \\frac{2}{3} \\ x + 4 = 10 \\)\n",
    "    </div>\n",
    "</body>\n",
    "</html>\n",
    "\n",
    "\n",
    "<h3 style=\"color: blue\">Solução:</h3>\n",
    "\n",
    "<b>1º Anulando a constante +4 com -4:</b>\n",
    "\n",
    "2/3 * x + 4 - 4 = 10 - 4 \n",
    "\n",
    "2/3 * x = 6\n",
    "\n",
    "\n",
    "<b>2º Anulando a fração 2 sobre 3  com 3 sobre 2:</b>\n",
    "\n",
    "3/2 * 2/3   *  x  = 6/1  * 3/2    \n",
    "\n",
    "x = 18/2 \n",
    "\n",
    "\n",
    "x = 9"
   ]
  },
  {
   "cell_type": "code",
   "execution_count": 12,
   "id": "8ca76394-ea67-48e5-9f33-564ae959216f",
   "metadata": {},
   "outputs": [
    {
     "data": {
      "text/plain": [
       "True"
      ]
     },
     "execution_count": 12,
     "metadata": {},
     "output_type": "execute_result"
    }
   ],
   "source": [
    "# Prova real com Python:\n",
    "x = 9\n",
    "2/3 * x + 4 == 10"
   ]
  },
  {
   "cell_type": "markdown",
   "id": "f5336cec-b97b-48a9-9456-0c2cf2a88ad3",
   "metadata": {
    "jp-MarkdownHeadingCollapsed": true
   },
   "source": [
    "<h2 style=\"color: blue\">Exercício 2:</h2>"
   ]
  },
  {
   "cell_type": "markdown",
   "id": "43bf7d1e-18e5-4eb7-b260-f90f6d165379",
   "metadata": {
    "jp-MarkdownHeadingCollapsed": true
   },
   "source": [
    "<!DOCTYPE html>\n",
    "<html lang=\"pt-BR\">\n",
    "<head>\n",
    "    <meta charset=\"UTF-8\">\n",
    "    <meta name=\"viewport\" content=\"width=device-width, initial-scale=1.0\">\n",
    "    <title>Equação</title>\n",
    "    <style>\n",
    "        body {\n",
    "            font-family: Arial, sans-serif;\n",
    "            display: flex;\n",
    "            justify-content: center;\n",
    "            align-items: center;\n",
    "            height: 100vh;\n",
    "            background-color: #f4f4f4;\n",
    "        }\n",
    "        .equation {\n",
    "            font-size: 24px;\n",
    "            background-color: white;\n",
    "            padding: 20px;\n",
    "            border-radius: 8px;\n",
    "            box-shadow: 0 0 10px rgba(0, 0, 0, 0.1);\n",
    "        }\n",
    "    </style>\n",
    "</head>\n",
    "<body>\n",
    "    <div class=\"equation\">\n",
    "        \\( 5x - 3 = 2x + 9 \\)\n",
    "    </div>\n",
    "</body>\n",
    "</html>\n",
    "\n",
    "\n",
    "<h3 style=\"color: blue\">Solução:</h3>\n",
    "\n",
    "\n",
    "<b>1º Anulando a constante  9  passando o -9 para o lado esquerdo da equação:</b>\n",
    "\n",
    "5x -3  -9 = 2x +9 -9\n",
    "\n",
    "5x -12 = 2x\n",
    "\n",
    "<b>2º Anulando o 5x com -5x em ambos os lados da equação:</b>\n",
    "\n",
    "\n",
    "5x -5x  -12 = 2x - 5x\n",
    "\n",
    "-12 = -3x\n",
    "\n",
    "<b>invertendo a ordem para facilitar a visualização</b>\n",
    "\n",
    "-12/-3 = x\n",
    "\n",
    "\n",
    "x = 4"
   ]
  },
  {
   "cell_type": "code",
   "execution_count": 13,
   "id": "b13298b8-4822-412e-8648-37e9b9825821",
   "metadata": {},
   "outputs": [
    {
     "data": {
      "text/plain": [
       "True"
      ]
     },
     "execution_count": 13,
     "metadata": {},
     "output_type": "execute_result"
    }
   ],
   "source": [
    "# Prova real com Python:\n",
    "x = 4\n",
    "5 * x - 3 == 2 * x + 9"
   ]
  },
  {
   "cell_type": "markdown",
   "id": "b12b2bd0-335d-480c-b9eb-0981a8ff923b",
   "metadata": {
    "jp-MarkdownHeadingCollapsed": true
   },
   "source": [
    "<h2 style=\"color: blue\">Exercício 3:</h2>"
   ]
  },
  {
   "cell_type": "markdown",
   "id": "16e61dbc-2666-491e-86f0-f2a0528aeec3",
   "metadata": {},
   "source": [
    "<!DOCTYPE html>\n",
    "<html lang=\"pt-BR\">\n",
    "<head>\n",
    "    <meta charset=\"UTF-8\">\n",
    "    <meta name=\"viewport\" content=\"width=device-width, initial-scale=1.0\">\n",
    "    <title>Equação</title>\n",
    "    <style>\n",
    "        body {\n",
    "            font-family: Arial, sans-serif;\n",
    "            display: flex;\n",
    "            justify-content: center;\n",
    "            align-items: center;\n",
    "            height: 100vh;\n",
    "            background-color: #f4f4f4;\n",
    "        }\n",
    "        .equation {\n",
    "            font-size: 24px;\n",
    "            background-color: white;\n",
    "            padding: 20px;\n",
    "            border-radius: 8px;\n",
    "            box-shadow: 0 0 10px rgba(0, 0, 0, 0.1);\n",
    "        }\n",
    "    </style>\n",
    "</head>\n",
    "<body>\n",
    "    <div class=\"equation\">\n",
    "        \\( 3 \\ (x + 2) = 2x + 15 \\)\n",
    "    </div>\n",
    "</body>\n",
    "</html>\n",
    "\n",
    "\n",
    "<h3 style=\"color: blue\">Solução:</h3>\n",
    "\n",
    "\n",
    "<b> 1º Aplicando a propriedade distributiva: </b>\n",
    "\n",
    "3x + 6 = 2x + 15\n",
    "\n",
    "<b> 2º Anulando a constante 15: </b>\n",
    "\n",
    "\n",
    "3x + 6 -15 = 2x +15 -15\n",
    "\n",
    "<b> 3º Anulandoo o 3x: </b>\n",
    "\n",
    "3x -9 = 2x\n",
    "\n",
    "3x -3x -9 = 2x = 3x\n",
    "\n",
    "-9 = -1x\n",
    "\n",
    "-9 / -1 = x\n",
    "\n",
    "x = 9"
   ]
  },
  {
   "cell_type": "code",
   "execution_count": 21,
   "id": "e14fa231-e83c-400d-8eae-d11bfa3010df",
   "metadata": {},
   "outputs": [
    {
     "data": {
      "text/plain": [
       "True"
      ]
     },
     "execution_count": 21,
     "metadata": {},
     "output_type": "execute_result"
    }
   ],
   "source": [
    "# Prova real com Python\n",
    "x = 9\n",
    "3 * (x + 2) == 2 * 9 + 15"
   ]
  },
  {
   "cell_type": "markdown",
   "id": "f696de6d-547e-4f7d-9053-9d8a9422a1a8",
   "metadata": {
    "jp-MarkdownHeadingCollapsed": true
   },
   "source": [
    "<h2 style=\"color: blue\">Exercício 4:</h2>"
   ]
  },
  {
   "cell_type": "markdown",
   "id": "e4e0008c-ce71-46ab-aa77-824ecc841dc7",
   "metadata": {},
   "source": [
    "<!DOCTYPE html>\n",
    "<html lang=\"pt-BR\">\n",
    "<head>\n",
    "    <meta charset=\"UTF-8\">\n",
    "    <meta name=\"viewport\" content=\"width=device-width, initial-scale=1.0\">\n",
    "    <title>Equação</title>\n",
    "    <style>\n",
    "        body {\n",
    "            font-family: Arial, sans-serif;\n",
    "            display: flex;\n",
    "            justify-content: center;\n",
    "            align-items: center;\n",
    "            height: 100vh;\n",
    "            background-color: #f4f4f4;\n",
    "        }\n",
    "        .equation {\n",
    "            font-size: 24px;\n",
    "            background-color: white;\n",
    "            padding: 20px;\n",
    "            border-radius: 8px;\n",
    "            box-shadow: 0 0 10px rgba(0, 0, 0, 0.1);\n",
    "        }\n",
    "    </style>\n",
    "</head>\n",
    "<body>\n",
    "    <div class=\"equation\">\n",
    "        \\( \\frac{1}{4} \\ x - 2 = 3 \\)\n",
    "    </div>\n",
    "</body>\n",
    "</html>\n",
    "\n",
    "<h3 style=\"color: blue\">Solução:</h3>\n",
    "\n",
    "<b> 1º Anulando a constante </b>\n",
    "\n",
    "1/4 * x - 2 +2 = 3 +2\n",
    "\n",
    "1/4 * x = 5\n",
    "\n",
    "<b> 2º Anulando a fração </b>\n",
    "\n",
    "4/1 * 1/4  x = 5/1 * 4/1\n",
    "\n",
    "\n",
    "x = 20/1\n",
    "\n",
    "x = 20"
   ]
  },
  {
   "cell_type": "code",
   "execution_count": 25,
   "id": "00a4a9fa-babe-4a4d-b68d-a4caddd3079f",
   "metadata": {},
   "outputs": [
    {
     "data": {
      "text/plain": [
       "True"
      ]
     },
     "execution_count": 25,
     "metadata": {},
     "output_type": "execute_result"
    }
   ],
   "source": [
    "# Prova real com Python\n",
    "x = 20\n",
    "1/4 * x - 2 == 3"
   ]
  },
  {
   "cell_type": "markdown",
   "id": "c468d3a8-adaa-4817-9cd6-c6e7499cddac",
   "metadata": {
    "jp-MarkdownHeadingCollapsed": true
   },
   "source": [
    "<h2 style=\"color: blue\">Exercício 5:</h2>"
   ]
  },
  {
   "cell_type": "markdown",
   "id": "91c761d4-c788-4e99-a209-bfd023d6b3c1",
   "metadata": {},
   "source": [
    "<!DOCTYPE html>\n",
    "<html lang=\"pt-BR\">\n",
    "<head>\n",
    "    <meta charset=\"UTF-8\">\n",
    "    <meta name=\"viewport\" content=\"width=device-width, initial-scale=1.0\">\n",
    "    <title>Equação</title>\n",
    "    <style>\n",
    "        body {\n",
    "            font-family: Arial, sans-serif;\n",
    "            display: flex;\n",
    "            justify-content: center;\n",
    "            align-items: center;\n",
    "            height: 100vh;\n",
    "            background-color: #f4f4f4;\n",
    "        }\n",
    "        .equation {\n",
    "            font-size: 24px;\n",
    "            background-color: white;\n",
    "            padding: 20px;\n",
    "            border-radius: 8px;\n",
    "            box-shadow: 0 0 10px rgba(0, 0, 0, 0.1);\n",
    "        }\n",
    "    </style>\n",
    "</head>\n",
    "<body>\n",
    "    <div class=\"equation\">\n",
    "        \\( 6 - 2(3x + 1) = 0 \\)\n",
    "    </div>\n",
    "</body>\n",
    "</html>\n",
    "\n",
    "\n",
    "<h3 style=\"color: blue\">Solução:</h3>\n",
    "\n",
    "<b> 1º Aplicando propriedade distributiva </b>\n",
    "\n",
    "6 -6x -2 = 0\n",
    "\n",
    "<b> 2º Unindo termos semelhantes </b>\n",
    "\n",
    "4 -6x = 0\n",
    " \n",
    "4 -4  -6x = 0 -4\n",
    "\n",
    "-6x = -4\n",
    "\n",
    "x = -4 / -6"
   ]
  },
  {
   "cell_type": "code",
   "execution_count": 33,
   "id": "450fa459-6c39-40cd-9a68-4f741274f8bc",
   "metadata": {},
   "outputs": [
    {
     "data": {
      "text/plain": [
       "True"
      ]
     },
     "execution_count": 33,
     "metadata": {},
     "output_type": "execute_result"
    }
   ],
   "source": [
    "x = -4 / -6\n",
    "6 - 2*(3*x + 1) == 0"
   ]
  },
  {
   "cell_type": "markdown",
   "id": "1c994a97-77cd-46ee-a3d1-bc10f13f8c5f",
   "metadata": {},
   "source": [
    "<h2 style=\"color: blue\">Exercício 6:</h2>"
   ]
  },
  {
   "cell_type": "markdown",
   "id": "152745f0-c45d-4a0e-8d58-5e7b46dc17d9",
   "metadata": {},
   "source": [
    "<!DOCTYPE html>\n",
    "<html lang=\"pt-BR\">\n",
    "<head>\n",
    "    <meta charset=\"UTF-8\">\n",
    "    <meta name=\"viewport\" content=\"width=device-width, initial-scale=1.0\">\n",
    "    <title>Equação</title>\n",
    "    <style>\n",
    "        body {\n",
    "            font-family: Arial, sans-serif;\n",
    "            display: flex;\n",
    "            justify-content: center;\n",
    "            align-items: center;\n",
    "            height: 100vh;\n",
    "            background-color: #f4f4f4;\n",
    "        }\n",
    "        .equation {\n",
    "            font-size: 24px;\n",
    "            background-color: white;\n",
    "            padding: 20px;\n",
    "            border-radius: 8px;\n",
    "            box-shadow: 0 0 10px rgba(0, 0, 0, 0.1);\n",
    "        }\n",
    "    </style>\n",
    "</head>\n",
    "<body>\n",
    "    <div class=\"equation\">\n",
    "        \\( \\frac{5}{2} \\cdot x + 1 = \\frac{3}{2} \\cdot x + 4 \\)\n",
    "    </div>\n",
    "</body>\n",
    "</html>\n"
   ]
  },
  {
   "cell_type": "markdown",
   "id": "4938259f-0e4b-4259-9734-5abd78003040",
   "metadata": {},
   "source": [
    "<b> 1º Anulando a fração 3/2 x (devemos levar o x junto)</b>\n",
    "\n",
    "5/2 * x - 3/2 * x + 1 = 3/2 x - 3/2 x + 4\n",
    "\n",
    "<b> 2º Anulando a constante 1</b>\n",
    "\n",
    "2/2 x + 1 -1 = 4 - 1\n",
    "\n",
    "\n",
    "<b> 3º Anulando a fração 2/2</b>\n",
    "\n",
    "2/2 * 2/2 x = 3/1 * 2/2\n",
    "\n",
    "x = 6/2\n",
    "\n",
    "x = 3"
   ]
  },
  {
   "cell_type": "code",
   "execution_count": 37,
   "id": "db376852-2e66-4e8d-8e00-a3b49aa44e03",
   "metadata": {},
   "outputs": [
    {
     "data": {
      "text/plain": [
       "True"
      ]
     },
     "execution_count": 37,
     "metadata": {},
     "output_type": "execute_result"
    }
   ],
   "source": [
    "# Prova real com Python\n",
    "x = 3\n",
    "5/2 * x + 1 == 3/2 * x + 4"
   ]
  }
 ],
 "metadata": {
  "kernelspec": {
   "display_name": "Python 3 (ipykernel)",
   "language": "python",
   "name": "python3"
  },
  "language_info": {
   "codemirror_mode": {
    "name": "ipython",
    "version": 3
   },
   "file_extension": ".py",
   "mimetype": "text/x-python",
   "name": "python",
   "nbconvert_exporter": "python",
   "pygments_lexer": "ipython3",
   "version": "3.11.7"
  }
 },
 "nbformat": 4,
 "nbformat_minor": 5
}
