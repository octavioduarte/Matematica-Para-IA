{
 "cells": [
  {
   "cell_type": "markdown",
   "id": "ced65a10-dbd4-4b1a-b651-177c3369669d",
   "metadata": {},
   "source": [
    "#### Adicionando divisão e multiplicação na resolução de equações de 1º grau\n",
    "\n",
    "Dada a seguinte equação:\n",
    "\n",
    "3x - 2 = 10"
   ]
  },
  {
   "cell_type": "markdown",
   "id": "5525c2fa-aff9-4aa4-97ef-ea7af4b59c1c",
   "metadata": {},
   "source": [
    "#### 1º Passo - Anulando os valores ao lado da variável com o propósito de isolá-la (como na primeira aula)\n",
    "\n",
    "\n",
    "3x -2 <span style=\"color: blue\"><b>+2</b></span> = 10 <span style=\"color: blue\"><b>+2</b></span>\n",
    "\n",
    "\n",
    "Resolvendo teremos o seguinte resultado:\n",
    "\n",
    "3x = 12"
   ]
  },
  {
   "cell_type": "markdown",
   "id": "4c2b515d-5f29-4d18-8b0d-d5156e19554c",
   "metadata": {},
   "source": [
    "#### 2º Passo - Anulando os coeficientes\n",
    "\n",
    "Temos agora 3 que **multiplica** x que resulta em 12 - Para abstrair essa equação devemos agora **dividir** pelo valor do coeficiente dos dois lados da equação resultando em: \n",
    "\n",
    "3x <span style=\"color: blue\"><b>/ 3x</b></span>  = 12 <span style=\"color: blue\"><b>/ 3x</b></span>\n",
    "\n",
    "Resultando em:\n",
    "\n",
    "\n",
    "x = 4"
   ]
  },
  {
   "cell_type": "markdown",
   "id": "d96ecb8e-66e4-4c0e-ae3b-c016881cbf80",
   "metadata": {},
   "source": [
    "Link da aula: https://www.datascienceacademy.com.br/path-player?courseid=matematica-e-estatistica-aplicada-para-data-science-machine-learning-e-ia&unit=655be3c4e9ef35ebd70fd787Unit"
   ]
  }
 ],
 "metadata": {
  "kernelspec": {
   "display_name": "Python 3 (ipykernel)",
   "language": "python",
   "name": "python3"
  },
  "language_info": {
   "codemirror_mode": {
    "name": "ipython",
    "version": 3
   },
   "file_extension": ".py",
   "mimetype": "text/x-python",
   "name": "python",
   "nbconvert_exporter": "python",
   "pygments_lexer": "ipython3",
   "version": "3.11.7"
  }
 },
 "nbformat": 4,
 "nbformat_minor": 5
}
