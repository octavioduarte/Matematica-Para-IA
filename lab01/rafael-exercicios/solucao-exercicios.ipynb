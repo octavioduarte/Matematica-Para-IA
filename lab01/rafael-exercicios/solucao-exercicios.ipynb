{
 "cells": [
  {
   "cell_type": "markdown",
   "metadata": {},
   "source": [
    "<!-- Projeto Desenvolvido na Data Science Academy - www.datascienceacademy.com.br -->\n",
    "# <font color='blue'>Data Science Academy</font>\n",
    "## <font color='blue'>Matemática e Estatística Aplicada Para Data Science, Machine Learning e IA</font>\n",
    "## <font color='blue'>Lista de Exercícios 1</font>\n",
    "## <font color='blue'>Matemática Fundamental com Linguagem Python</font>"
   ]
  },
  {
   "cell_type": "markdown",
   "metadata": {},
   "source": [
    "### Instalando e Carregando Pacotes"
   ]
  },
  {
   "cell_type": "code",
   "execution_count": null,
   "metadata": {},
   "outputs": [],
   "source": [
    "# Para atualizar um pacote, execute o comando abaixo no terminal ou prompt de comando:\n",
    "# pip install -U nome_pacote\n",
    "\n",
    "# Para instalar a versão exata de um pacote, execute o comando abaixo no terminal ou prompt de comando:\n",
    "# !pip install nome_pacote==versão_desejada\n",
    "\n",
    "# Depois de instalar ou atualizar o pacote, reinicie o jupyter notebook.\n",
    "\n",
    "# Instala o pacote watermark. \n",
    "# Esse pacote é usado para gravar as versões de outros pacotes usados neste jupyter notebook.\n",
    "!pip install -q -U watermark"
   ]
  },
  {
   "cell_type": "code",
   "execution_count": null,
   "metadata": {},
   "outputs": [],
   "source": [
    "# Versões dos pacotes usados neste jupyter notebook\n",
    "%reload_ext watermark\n",
    "%watermark -a \"Data Science Academy\" --iversions"
   ]
  },
  {
   "cell_type": "markdown",
   "metadata": {},
   "source": [
    "**Resolva os exercícios abaixo usando Linguagem Python. Faça pesquisa complementar se necessário.**"
   ]
  },
  {
   "cell_type": "markdown",
   "metadata": {},
   "source": [
    "### Exercício 1: Cálculo de Área de um Círculo\n",
    "\n",
    "Escreva um programa que calcula a área de um círculo. O usuário deve fornecer o raio e o programa deve retornar a área."
   ]
  },
  {
   "cell_type": "code",
   "execution_count": 15,
   "metadata": {},
   "outputs": [
    {
     "name": "stdout",
     "output_type": "stream",
     "text": [
      "Digite o raio: \n"
     ]
    },
    {
     "name": "stdin",
     "output_type": "stream",
     "text": [
      " 7\n"
     ]
    },
    {
     "name": "stdout",
     "output_type": "stream",
     "text": [
      "A area do circulo é: 153.86\n"
     ]
    }
   ],
   "source": [
    "print('Digite o raio: ')\n",
    "\n",
    "raio = input()\n",
    "\n",
    "area = 3.14 * float(raio) ** 2\n",
    "\n",
    "print(\"A area do circulo é: \" + str(area))"
   ]
  },
  {
   "cell_type": "markdown",
   "metadata": {},
   "source": [
    "### Exercício 2: Conversão de Temperatura\n",
    "\n",
    "Crie uma função que converte a temperatura de Celsius para Fahrenheit e vice-versa. O usuário deve informar a temperatura e a escala de origem."
   ]
  },
  {
   "cell_type": "code",
   "execution_count": 32,
   "metadata": {},
   "outputs": [
    {
     "name": "stdout",
     "output_type": "stream",
     "text": [
      "Digite a temperatura: \n"
     ]
    },
    {
     "name": "stdin",
     "output_type": "stream",
     "text": [
      " 22\n"
     ]
    },
    {
     "name": "stdout",
     "output_type": "stream",
     "text": [
      "Digite a escala de origem: \n"
     ]
    },
    {
     "name": "stdin",
     "output_type": "stream",
     "text": [
      " celcius\n"
     ]
    },
    {
     "name": "stdout",
     "output_type": "stream",
     "text": [
      "O valor convertido em fahrenheit é: 71.6\n"
     ]
    }
   ],
   "source": [
    "print(\"Digite a temperatura: \")\n",
    "\n",
    "temperatura = input()\n",
    "\n",
    "print(\"Digite a escala de origem: \")\n",
    "\n",
    "origem = input()\n",
    "\n",
    "if origem == \"fahrenheit\":\n",
    "    celsius = (float(temperatura) - 32) * 5/9\n",
    "    print(\"O valor convertido em celsius é: \" + str(celsius))\n",
    "\n",
    "if origem == \"celcius\":\n",
    "    fahrenheit = (float(temperatura) * 1.8) + 32\n",
    "    print(\"O valor convertido em fahrenheit é: \" + str(fahrenheit))\n"
   ]
  },
  {
   "cell_type": "markdown",
   "metadata": {},
   "source": [
    "### Exercício 3: Resolver uma Equação Linear\n",
    "\n",
    "Faça um programa que resolve uma equação linear do tipo ax + b = 0. Os valores de a e b são fornecidos pelo usuário."
   ]
  },
  {
   "cell_type": "code",
   "execution_count": 42,
   "metadata": {},
   "outputs": [
    {
     "name": "stdin",
     "output_type": "stream",
     "text": [
      "Digite o valor de a:  2\n",
      "Digite o valor de b:  3\n"
     ]
    },
    {
     "name": "stdout",
     "output_type": "stream",
     "text": [
      "A solução da equação é x = -1.5\n"
     ]
    }
   ],
   "source": [
    " a = float(input(\"Digite o valor de a: \"))\n",
    " b = float(input(\"Digite o valor de b: \"))\n",
    "\n",
    " x = -b / a\n",
    "\n",
    "print(f\"A solução da equação é x = {x}\")"
   ]
  },
  {
   "cell_type": "markdown",
   "metadata": {},
   "source": [
    "### Exercício 4: Cálculo de Média Aritmética\n",
    "\n",
    "Escreva um programa que calcula a média aritmética de uma lista de números fornecida pelo usuário."
   ]
  },
  {
   "cell_type": "code",
   "execution_count": 3,
   "metadata": {},
   "outputs": [
    {
     "name": "stdin",
     "output_type": "stream",
     "text": [
      "Digite os números separados por espaço:  \n"
     ]
    },
    {
     "name": "stdout",
     "output_type": "stream",
     "text": [
      "Nenhum valor foi digitado.\n"
     ]
    }
   ],
   "source": [
    "entrada = input(\"Digite os números separados por espaço: \")\n",
    "\n",
    "valores = [int(x) for x in entrada.split()]\n",
    "\n",
    "if len(valores) > 0:\n",
    "    # Calcula a média aritmética\n",
    "    media = sum(valores) / len(valores)\n",
    "    print(f\"A média aritmética dos números fornecidos é: {media}\")\n",
    "else:\n",
    "    print(\"Nenhum valor foi digitado.\")"
   ]
  },
  {
   "cell_type": "markdown",
   "metadata": {},
   "source": [
    "### Exercício 5: Determinar as Raízes de uma Equação Quadrática\n",
    "\n",
    "Crie um programa que encontra as raízes de uma equação quadrática do tipo ax^2 + bx + c = 0. O programa deve lidar com todos os tipos de raízes (reais e complexas)."
   ]
  },
  {
   "cell_type": "code",
   "execution_count": null,
   "metadata": {},
   "outputs": [],
   "source": [
    "print(\"Solução para a equação quadrática ax^2 + bx + c = 0\")\n",
    "\n",
    "a = float(input(\"Digite o valor de a: \"))\n",
    "b = float(input(\"Digite o valor de b: \"))\n",
    "c = float(input(\"Digite o valor de c: \"))\n",
    "\n",
    "def calcular_raizes(a, b, c):\n",
    "    delta = b**2 - 4*a*c\n",
    "\n",
    "    raiz1 = (-b + cmath.sqrt(delta)) / (2*a)\n",
    "    raiz2 = (-b - cmath.sqrt(delta)) / (2*a)\n",
    "\n",
    "    return raiz1, raiz2\n",
    "\n",
    "raiz1, raiz2 = calcular_raizes(a, b, c)\n",
    "\n",
    "if raiz1 == raiz2:\n",
    "        print(f\"A equação tem uma raiz real dupla: {raiz1}\")\n",
    "    else:\n",
    "        print(f\"As raízes da equação são: {raiz1} e {raiz2}\")\n",
    "\n"
   ]
  },
  {
   "cell_type": "markdown",
   "metadata": {},
   "source": [
    "### Exercício 6: Calcular o Fatorial de um Número\n",
    "\n",
    "Escreva uma função que calcula o fatorial de um número inteiro fornecido pelo usuário."
   ]
  },
  {
   "cell_type": "code",
   "execution_count": 6,
   "metadata": {},
   "outputs": [
    {
     "name": "stdin",
     "output_type": "stream",
     "text": [
      "Digite um número inteiro para calcular o fatorial:  5\n"
     ]
    },
    {
     "name": "stdout",
     "output_type": "stream",
     "text": [
      "O fatorial de 5 é 120\n"
     ]
    }
   ],
   "source": [
    "def calcular_fatorial(n):\n",
    "    if n == 0 or n == 1:\n",
    "        return 1  # O fatorial de 0 ou 1 é 1\n",
    "    else:\n",
    "        fatorial = 1\n",
    "        for i in range(1, n + 1):\n",
    "            fatorial *= i  # Multiplica os números de 1 até n\n",
    "        return fatorial\n",
    "\n",
    "numero = int(input(\"Digite um número inteiro para calcular o fatorial: \"))\n",
    "\n",
    "\n",
    "if numero < 0:\n",
    "    print(\"Fatorial não é definido para números negativos.\")\n",
    "else:\n",
    "    resultado = calcular_fatorial(numero)\n",
    "    print(f\"O fatorial de {numero} é {resultado}\")"
   ]
  },
  {
   "cell_type": "markdown",
   "metadata": {},
   "source": [
    "### Exercício 7: Sequência de Fibonacci\n",
    "\n",
    "Crie um programa que gera a sequência de Fibonacci até um determinado número n fornecido pelo usuário."
   ]
  },
  {
   "cell_type": "code",
   "execution_count": null,
   "metadata": {},
   "outputs": [],
   "source": []
  },
  {
   "cell_type": "markdown",
   "metadata": {},
   "source": [
    "### Exercício 8: Cálculo de Juros Compostos\n",
    "\n",
    "Faça um programa que calcula o montante final de um investimento com juros compostos. O usuário deve fornecer o capital inicial, a taxa de juros anual, e o número de anos."
   ]
  },
  {
   "cell_type": "code",
   "execution_count": null,
   "metadata": {},
   "outputs": [],
   "source": []
  },
  {
   "cell_type": "markdown",
   "metadata": {},
   "source": [
    "### Exercício 9: Conversão de Moedas\n",
    "\n",
    "Escreva um programa que converte uma quantidade de uma moeda (como dólar) para outra (como euro), considerando uma taxa de câmbio fornecida pelo usuário."
   ]
  },
  {
   "cell_type": "code",
   "execution_count": null,
   "metadata": {},
   "outputs": [],
   "source": []
  },
  {
   "cell_type": "markdown",
   "metadata": {},
   "source": [
    "### Exercício 10: Verificar se um Número é Primo\n",
    "\n",
    "Crie uma função que verifica se um número fornecido pelo usuário é primo ou não."
   ]
  },
  {
   "cell_type": "code",
   "execution_count": null,
   "metadata": {},
   "outputs": [],
   "source": []
  },
  {
   "cell_type": "code",
   "execution_count": null,
   "metadata": {},
   "outputs": [],
   "source": [
    "%reload_ext watermark\n",
    "%watermark -a \"Data Science Academy\""
   ]
  },
  {
   "cell_type": "code",
   "execution_count": null,
   "metadata": {},
   "outputs": [],
   "source": [
    "#%watermark -v -m"
   ]
  },
  {
   "cell_type": "markdown",
   "metadata": {},
   "source": [
    "# Fim"
   ]
  }
 ],
 "metadata": {
  "kernelspec": {
   "display_name": "Python 3 (ipykernel)",
   "language": "python",
   "name": "python3"
  },
  "language_info": {
   "codemirror_mode": {
    "name": "ipython",
    "version": 3
   },
   "file_extension": ".py",
   "mimetype": "text/x-python",
   "name": "python",
   "nbconvert_exporter": "python",
   "pygments_lexer": "ipython3",
   "version": "3.12.4"
  }
 },
 "nbformat": 4,
 "nbformat_minor": 4
}
