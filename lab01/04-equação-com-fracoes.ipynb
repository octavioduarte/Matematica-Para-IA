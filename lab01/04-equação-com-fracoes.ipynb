{
 "cells": [
  {
   "cell_type": "markdown",
   "metadata": {},
   "source": [
    "### Equação com Frações \n",
    "\n",
    "\n",
    "Exemplo de uma equação em que nossa variável é definida como uma fração:\n",
    "\n",
    "<b style=\"color: blue\">x/3</b> + 1 = 16\n",
    "\n",
    "Seguimos a mesma lógica de antes, primeiro removendo as constantes do lado esquerdo e depois, subtraímos 1 de ambos os lados.\n",
    "\n",
    "<b style=\"color: blue\">x/3</b> + 1 <b style=\"color: red\"> -1</b> = 16 <b style=\"color: red\"> - 1</b>\n",
    "\n",
    "<b style=\"color: blue\">x/3</b> = 15\n",
    "\n",
    "Agora temos que lidar com a fração à esquerda para que fiquemos com apenas **x**. \n",
    "\n",
    "A fração é <sup>x</sup>/<sub>3</sub> que é outra maneira de dizer *x dividido por 3*, então podemos aplicar a operação oposta para ambos os lados. Nesse caso, precisamos multiplicar ambos os lados pelo denominador da nossa variável, que é o 3. \n",
    "\n",
    "Para facilitar o entendimento, fazendo com que seja representado por uma operação de frações, podemos expressar números inteiros como frações com denominador 1; então, à esquerda, podemos expressar 3 como <sup>3</sup>/<sub>1</sub> e multiplicamos com <sup>x</sup>/<sub>3</sub>. \n",
    "\n",
    "Observe que a notação para multiplicação é um símbolo **&bull;** em vez do operador de multiplicação *x* padrão (que causaria confusão, por ja existir a variável **x**) ou o símbolo de asterisco usado pela maioria das linguagens de programação.\n",
    "\n",
    "<b style=\"color: blue\">1/3</b> **&bull;** <b style=\"color: blue\">x/3</b> = 15 **&bull;** 3 \n",
    "\n",
    "Isso nos dá o seguinte resultado:\n",
    "\n",
    "<b style=\"color: blue\">x</b> = 45"
   ]
  },
  {
   "cell_type": "code",
   "execution_count": null,
   "metadata": {},
   "outputs": [],
   "source": [
    "# Atribuindo valor a x\n",
    "x = 45"
   ]
  },
  {
   "cell_type": "code",
   "execution_count": null,
   "metadata": {},
   "outputs": [
    {
     "data": {
      "text/plain": [
       "True"
      ]
     },
     "metadata": {},
     "output_type": "display_data"
    }
   ],
   "source": [
    "# Comparando as expressões\n",
    "x / 3 + 1 == 16"
   ]
  }
 ],
 "metadata": {
  "language_info": {
   "name": "python"
  }
 },
 "nbformat": 4,
 "nbformat_minor": 2
}
