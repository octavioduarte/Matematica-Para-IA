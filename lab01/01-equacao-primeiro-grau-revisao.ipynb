{
 "cells": [
  {
   "cell_type": "markdown",
   "id": "074065ed-580a-4f70-a3a7-9422008c4f02",
   "metadata": {},
   "source": [
    "#### Passo a passo para resolução de uma equação de 1º grau "
   ]
  },
  {
   "cell_type": "markdown",
   "id": "1152967c-5740-4372-b3fb-7b5180a4dc45",
   "metadata": {},
   "source": [
    "x + 12 = -37   --> Equação"
   ]
  },
  {
   "cell_type": "markdown",
   "id": "c3ecec63-85ea-48a8-957f-35667994fa81",
   "metadata": {},
   "source": [
    "#### 1º Passo - Anulando os valores ao lado da variável com o propósito de isolá-la\n",
    "\n",
    "Nossa equação tem \"dois lados\":\n",
    "\n",
    " - Antes do sinal de igual (o lado esquerdo):\n",
    "\n",
    "   x + 12\n",
    "\n",
    "\n",
    " - Depois do sinal de igual (o lado direito):\n",
    "\n",
    "   -37\n",
    "\n",
    "<b style=\"color: blue\">O que precisamos fazer primeiramente é</b> deixar **apenas o X** do lado esquerdo e para isso precisamos anular o valor indesejado que no nosso caso é o +12 que está ao lado de X. Para anular o +12 precisamos utilizar uma operação inversa com o -12, mas a regra aqui é aplicar essa anulação dos dois lados da equação e o resultado será este:\n",
    "\n",
    "     x + 12 - 12 = -37 -12"
   ]
  },
  {
   "cell_type": "markdown",
   "id": "f5836722-4cc7-4447-b011-22f66cce4cf6",
   "metadata": {},
   "source": [
    "#### 2º Passo - Resolver as operações de forma que vamos obter o valor de X isolado\n",
    "\n",
    "x <s>+12 -12</s> = -49   \n",
    "\n",
    "Resultando em:\n",
    "\n",
    "x = -49 \n",
    "\n",
    "Podemos concluir que x é igual á -49 \n"
   ]
  },
  {
   "cell_type": "code",
   "execution_count": null,
   "id": "8550c54b",
   "metadata": {
    "vscode": {
     "languageId": "plaintext"
    }
   },
   "outputs": [],
   "source": [
    "Link da aula: https://www.datascienceacademy.com.br/path-player?courseid=matematica-e-estatistica-aplicada-para-data-science-machine-learning-e-ia&unit=655be3bc052045792a0c7e67Unit"
   ]
  }
 ],
 "metadata": {
  "kernelspec": {
   "display_name": "Python 3 (ipykernel)",
   "language": "python",
   "name": "python3"
  },
  "language_info": {
   "codemirror_mode": {
    "name": "ipython",
    "version": 3
   },
   "file_extension": ".py",
   "mimetype": "text/x-python",
   "name": "python",
   "nbconvert_exporter": "python",
   "pygments_lexer": "ipython3",
   "version": "3.11.7"
  }
 },
 "nbformat": 4,
 "nbformat_minor": 5
}
