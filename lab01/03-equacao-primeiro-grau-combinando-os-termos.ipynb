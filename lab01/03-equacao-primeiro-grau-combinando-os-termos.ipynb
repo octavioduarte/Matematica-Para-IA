{
 "cells": [
  {
   "cell_type": "markdown",
   "id": "ef572a76-016c-45e1-bfbf-6bd4d4b7c68d",
   "metadata": {},
   "source": [
    "#### 1º Combinando os termos - Quando nossa variável se repete na equação:\n",
    "\n",
    "Para a equação abaixo: \n",
    "\n",
    "\n",
    "<b style=\"color: blue\">5x</b> + 1 <b style=\"color: blue\">-2x</b> = 22\n",
    "\n",
    "\n",
    "Nossa variável se repete - Precisamos junta-la de forma que nossa equação fique mais simplificada:\n",
    "\n",
    "<b style=\"color: blue\">5x</b> <b style=\"color: blue\">-2x</b> + 1  = 22\n",
    "\n",
    "<i>Repare que juntamos os termos respeitando o sinal de menos que estava ao lado do 2</i>\n",
    "\n",
    "\n",
    "<b style=\"color: blue\">3x</b> + 1  = 22\n",
    "\n",
    "\n",
    "Agora basta seguirmos os passos já vistos antes:"
   ]
  },
  {
   "cell_type": "markdown",
   "id": "59761b5c-bd51-47a5-92f3-ec07eb4e451c",
   "metadata": {},
   "source": [
    "#### 2º Passo - Anulando os valores ao lado da variável com o propósito de isolá-la\n",
    "\n",
    "3x +1 <b style=\"color: blue\">-1</b> = 22 <b style=\"color: blue\">-1</b>\n",
    "\n",
    "Resultando em: \n",
    "\n",
    "3x = 21"
   ]
  },
  {
   "cell_type": "markdown",
   "id": "2f6bcd0e-fecb-40c4-b4e3-5e431e41fdaf",
   "metadata": {},
   "source": [
    "#### 2º Passo - Anulando os coeficientes\n",
    "\n",
    "3x <b style=\"color: blue\"> / 3</b> = 21 <b style=\"color: blue\"> / 3</b>\n",
    "\n",
    "\n",
    "x = 7"
   ]
  }
 ],
 "metadata": {
  "kernelspec": {
   "display_name": "Python 3 (ipykernel)",
   "language": "python",
   "name": "python3"
  },
  "language_info": {
   "codemirror_mode": {
    "name": "ipython",
    "version": 3
   },
   "file_extension": ".py",
   "mimetype": "text/x-python",
   "name": "python",
   "nbconvert_exporter": "python",
   "pygments_lexer": "ipython3",
   "version": "3.11.7"
  }
 },
 "nbformat": 4,
 "nbformat_minor": 5
}
